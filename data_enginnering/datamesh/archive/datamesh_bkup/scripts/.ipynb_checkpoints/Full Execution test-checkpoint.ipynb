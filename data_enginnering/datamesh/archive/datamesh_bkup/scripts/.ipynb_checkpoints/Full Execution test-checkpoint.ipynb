{
 "cells": [
  {
   "cell_type": "code",
   "execution_count": 384,
   "metadata": {},
   "outputs": [
    {
     "data": {
      "text/html": [
       "<style>.container { width:200% !important; }</style>"
      ],
      "text/plain": [
       "<IPython.core.display.HTML object>"
      ]
     },
     "metadata": {},
     "output_type": "display_data"
    }
   ],
   "source": [
    "from IPython.core.display import display, HTML\n",
    "display(HTML(\"<style>.container { width:200% !important; }</style>\"))"
   ]
  },
  {
   "cell_type": "code",
   "execution_count": 385,
   "metadata": {
    "collapsed": true
   },
   "outputs": [],
   "source": [
    "from datetime import datetime\n",
    "# from pyspark.sql.functions import udf,DataType,when,length,trim,col,lit\n",
    "from pyspark.sql.functions import *\n",
    "from pyspark.sql import SparkSession\n",
    "from pyspark.sql.types import StructType,StructField,DateType,LongType,DoubleType,StringType,IntegerType"
   ]
  },
  {
   "cell_type": "code",
   "execution_count": 386,
   "metadata": {
    "collapsed": true
   },
   "outputs": [],
   "source": [
    "spark = SparkSession.Builder().master(\"local[1]\") \\\n",
    "          .appName(\"tmpdriver\") \\\n",
    "          .getOrCreate()\n",
    "\n",
    "file1 = \"/home/susi/Project/moody/data_bkup/data/smaple_data_empl_dummy_1.csv\"\n",
    "file2 = \"/home/susi/Project/moody/data_bkup/data/smaple_data_empl_dummy_2.csv\"\n",
    "\n",
    "\n"
   ]
  },
  {
   "cell_type": "code",
   "execution_count": 387,
   "metadata": {
    "collapsed": true
   },
   "outputs": [],
   "source": [
    "df1 = spark.read.options(delimiter=',',header=\"true\").csv(file1)\n",
    "df2 = spark.read.options(delimiter=',',header=\"true\").csv(file2)\n"
   ]
  },
  {
   "cell_type": "code",
   "execution_count": 388,
   "metadata": {
    "collapsed": true
   },
   "outputs": [],
   "source": [
    "df1_2 = df1. \\\n",
    " withColumnRenamed(\"Emp ID\"                ,\"Emp_ID\")\\\n",
    ".withColumnRenamed(\"Name Prefix\"           ,\"Name_Prefix\")\\\n",
    ".withColumnRenamed(\"First Name\"            ,\"First_Name\")\\\n",
    ".withColumnRenamed(\"Middle Initial\"        ,\"Middle_Initial\")\\\n",
    ".withColumnRenamed(\"Last Name\"             ,\"Last_Name\")\\\n",
    ".withColumnRenamed(\"Gender\"                ,\"Gender\")\\\n",
    ".withColumnRenamed(\"Age in Yrs.\"           ,\"Age_in_Yrs\")\\\n",
    ".withColumnRenamed(\"Date of Joining\"       ,\"Date_of_Joining\")\\\n",
    ".withColumnRenamed(\"Age in Company (Years)\",\"Age_in_Company_Yrs\")\\\n",
    ".withColumnRenamed(\"Salary\"                ,\"Salary\")\\\n",
    ".withColumnRenamed(\"Place Name\"            ,\"Place_Name\")\\\n",
    ".withColumnRenamed(\"County\"                ,\"County\")\\\n",
    ".withColumnRenamed(\"City\"                  ,\"City\")\\\n",
    ".withColumnRenamed(\"State\"                 ,\"State\")\\\n",
    ".withColumnRenamed(\"Zip\"                   ,\"Zip\")"
   ]
  },
  {
   "cell_type": "code",
   "execution_count": 389,
   "metadata": {},
   "outputs": [],
   "source": [
    "# df1_2.show()\n",
    "# df1_2.filln"
   ]
  },
  {
   "cell_type": "code",
   "execution_count": 390,
   "metadata": {
    "collapsed": true
   },
   "outputs": [],
   "source": [
    "# sdf_schema = StructType([\\\n",
    "#         StructField(\"Emp_ID\"            ,LongType()  ,True),\\\n",
    "#         StructField(\"Name_Prefix\"       ,StringType(),True),\\\n",
    "#         StructField(\"First_Name\"        ,StringType(),True),\\\n",
    "#         StructField(\"Middle_Initial\"    ,StringType(),True),\\\n",
    "#         StructField(\"Last_Name\"         ,StringType(),True),\\\n",
    "#         StructField(\"Gender\"            ,StringType(),True),\\\n",
    "#         StructField(\"Age_in_Yrs\"        ,DoubleType(),True),\\\n",
    "#         StructField(\"Date_of_Joining\"   ,DateType()  ,True),\\\n",
    "#         StructField(\"Age_in_Company_Yrs\",DoubleType(),True),\\\n",
    "#         StructField(\"Salary\"            ,DoubleType(),True),\\\n",
    "#         StructField(\"Place_Name\"        ,StringType(),True),\\\n",
    "#         StructField(\"County\"            ,StringType(),True),\\\n",
    "#         StructField(\"City\"              ,StringType(),True),\\\n",
    "#         StructField(\"State\"             ,StringType(),True),\\\n",
    "#         StructField(\"Zip\"               ,StringType(),True),\\\n",
    "#     ])"
   ]
  },
  {
   "cell_type": "code",
   "execution_count": 393,
   "metadata": {},
   "outputs": [
    {
     "ename": "SyntaxError",
     "evalue": "invalid syntax (<ipython-input-393-b5ed9b50b736>, line 3)",
     "output_type": "error",
     "traceback": [
      "\u001b[0;36m  File \u001b[0;32m\"<ipython-input-393-b5ed9b50b736>\"\u001b[0;36m, line \u001b[0;32m3\u001b[0m\n\u001b[0;31m    .withColumn('Salary', when(length(trim(col('Salary'))) == 0 ,None).otherwise(df1_2[\"Salary\"].cast(DoubleType()))) .withColumn('Place_Name', when(length(trim(col('Place_Name'))) == 0 ,None).otherwise(df1_2[\"Place_Name\"].cast(StringType()))) .withColumn('County', when(length(trim(col('County'))) == 0 ,None).otherwise(df1_2[\"County\"].cast(StringType()))) # .withColumn('City', when(length(trim(col('City'))) == 0 ,None).otherwise(df1_2[\"City\"].cast(StringType()))) \\\u001b[0m\n\u001b[0m    ^\u001b[0m\n\u001b[0;31mSyntaxError\u001b[0m\u001b[0;31m:\u001b[0m invalid syntax\n"
     ]
    }
   ],
   "source": [
    "df1_3 = df1_2 \\\n",
    ".withColumn('Emp_ID', when(length(trim(col('Emp_ID'))) == 0 ,None).otherwise(df1_2[\"Emp_ID\"].cast(LongType()))) \\\n",
    ".withColumn('Name_Prefix', when(length(trim(col('Name_Prefix'))) == 0 ,None).otherwise(df1_2[\"Name_Prefix\"].cast(StringType()))) \\\n",
    ".withColumn('First_Name', when(length(trim(col('First_Name'))) == 0 ,None).otherwise(df1_2[\"First_Name\"].cast(StringType()))) \\\n",
    ".withColumn('Middle_Initial', when(length(trim(col('Middle_Initial'))) == 0 ,None).otherwise(df1_2[\"Middle_Initial\"].cast(StringType()))) \\\n",
    ".withColumn('Last_Name', when(length(trim(col('Last_Name'))) == 0 ,None).otherwise(df1_2[\"Last_Name\"].cast(StringType()))) \\\n",
    ".withColumn('Gender', when(length(trim(col('Gender'))) == 0 ,None).otherwise(df1_2[\"Gender\"].cast(StringType()))) \\\n",
    ".withColumn('Age_in_Yrs',      when(length(trim(     col('Age_in_Yrs'))) == 0 , None).otherwise(df1_2[\"Age_in_Yrs\"].cast(DoubleType()))) \\\n",
    ".withColumn('Date_of_Joining', when(length(trim(col('Date_of_Joining'))) == 0 ,'00/00/0000 00:00:00'))\\\n",
    "# .withColumn(\"Date_of_Joining\", when(length(trim(col('Date_of_Joining'))) != 0 ,to_timestamp(\"Date_of_Joining\").cast('date')))\\\n",
    "# .withColumn('Age_in_Company_Yrs', when(length(trim(col('Age_in_Company_Yrs'))) == 0 ,None).otherwise(df1_2[\"Age_in_Company_Yrs\"].cast(DoubleType()))) \\\n",
    ".withColumn('Salary', when(length(trim(col('Salary'))) == 0 ,None).otherwise(df1_2[\"Salary\"].cast(DoubleType()))) \\\n",
    ".withColumn('Place_Name', when(length(trim(col('Place_Name'))) == 0 ,None).otherwise(df1_2[\"Place_Name\"].cast(StringType()))) \\\n",
    ".withColumn('County', when(length(trim(col('County'))) == 0 ,None).otherwise(df1_2[\"County\"].cast(StringType()))) \\\n",
    "# .withColumn('City', when(length(trim(col('City'))) == 0 ,None).otherwise(df1_2[\"City\"].cast(StringType()))) \\\n",
    ".withColumn('State', when(length(trim(col('State'))) == 0 ,None).otherwise(df1_2[\"State\"].cast(StringType()))) \\\n",
    ".withColumn('Zip', when(length(trim(col('Zip'))) == 0 ,None).otherwise(df1_2[\"Zip\"].cast(StringType())))\n",
    "\n",
    "# df1_3.show()  \n",
    "# df1_3.printSchema()\n",
    "            \n",
    "# .withColumn('Date_of_Joining', when(length(trim(col('Date_of_Joining'))) == 0 ,'missing').otherwise(df1_2[\"Date_of_Joining\"].cast(DateType()))) \\"
   ]
  },
  {
   "cell_type": "code",
   "execution_count": null,
   "metadata": {},
   "outputs": [],
   "source": [
    "# df1_3 = df1_2.withColumn('Emp_ID', when(length(trim(col('Emp_ID'))) == 0),col('Emp_ID'))\n",
    "#                        .withColumn('Name_Prefix', when(length('Name_Prefix')==0,Null))\\\n",
    "#                        .withColumn('First_Name', when(length('First_Name')==0,Null))\\\n",
    "#                        .withColumn('Middle_Initial', when(length('Middle_Initial')==0,Null)\\\n",
    "#                        .withColumn('Last_Name', when(length('Last_Name')==0,Null)\\\n",
    "#                        .withColumn('Gender', when(length('Gender')==0,Null)\\\n",
    "#                        .withColumn(\"Date_of_Joining\", coalesce(col(\"Date_of_Joining\"), lit('00/00/000 00:00:00'))\\\n",
    "#                        .withColumn(\"Age_in_Yrs\", coalesce(col(\"Age_in_Yrs\"), lit(\"0.00\"))\\\n",
    "#                        .withColumn(\"Age_in_Company_Yrs\", coalesce(col(\"Age_in_Company_Yrs\"), lit(\"0.00\"))\\\n",
    "#                        .withColumn(\"Salary\", coalesce(col(\"Salary\"), lit(\"0.00\")))\n",
    "#                        .withColumn('Zip', F.lpad(df['Zip'], 5, '0'))"
   ]
  },
  {
   "cell_type": "code",
   "execution_count": null,
   "metadata": {
    "collapsed": true
   },
   "outputs": [],
   "source": []
  },
  {
   "cell_type": "code",
   "execution_count": null,
   "metadata": {
    "collapsed": true
   },
   "outputs": [],
   "source": [
    "# Date_Convert =  udf (lambda x: datetime.strptime(x, '%Y%m%d'), DateType )"
   ]
  },
  {
   "cell_type": "code",
   "execution_count": null,
   "metadata": {
    "collapsed": true
   },
   "outputs": [],
   "source": [
    "# data = data.withColumn('Emp_ID', when(length(trim(col('Emp_ID'))) == 0, trim('Emp_ID')).otherwise(0))\\\n",
    "#                        .withColumn('Date_of_Joining', when(length('Date_of_Joining')==0,'00/00/000 00:00:00')\\\n",
    "#                        .otherwise(date_format(Date_Convert(col('DATE')), 'MM-dd-yyyy'))\\ \n",
    "#                        .withColumn(\"Age_in_Yrs\", coalesce(col(\"Age_in_Yrs\"), lit(\"0.00\"))\\\n",
    "#                        .withColumn(\"Age_in_Company_Yrs\", coalesce(col(\"Age_in_Company_Yrs\"), lit(\"0.00\"))\\\n",
    "#                        .withColumn(\"Salary\", coalesce(col(\"Salary\"), lit(\"0.00\")))\\\n",
    "#                        .withColumn('Zip', F.lpad(df['Zip'], 5, '0'))"
   ]
  },
  {
   "cell_type": "code",
   "execution_count": null,
   "metadata": {
    "collapsed": true
   },
   "outputs": [],
   "source": [
    "# df1_1.printSchema()"
   ]
  },
  {
   "cell_type": "code",
   "execution_count": null,
   "metadata": {
    "collapsed": true
   },
   "outputs": [],
   "source": []
  },
  {
   "cell_type": "code",
   "execution_count": null,
   "metadata": {
    "collapsed": true
   },
   "outputs": [],
   "source": []
  },
  {
   "cell_type": "code",
   "execution_count": null,
   "metadata": {
    "collapsed": true
   },
   "outputs": [],
   "source": []
  },
  {
   "cell_type": "code",
   "execution_count": null,
   "metadata": {
    "collapsed": true
   },
   "outputs": [],
   "source": []
  },
  {
   "cell_type": "code",
   "execution_count": null,
   "metadata": {
    "collapsed": true
   },
   "outputs": [],
   "source": []
  }
 ],
 "metadata": {
  "kernelspec": {
   "display_name": "Python 3",
   "language": "python",
   "name": "python3"
  },
  "language_info": {
   "codemirror_mode": {
    "name": "ipython",
    "version": 3
   },
   "file_extension": ".py",
   "mimetype": "text/x-python",
   "name": "python",
   "nbconvert_exporter": "python",
   "pygments_lexer": "ipython3",
   "version": "3.6.3"
  }
 },
 "nbformat": 4,
 "nbformat_minor": 2
}
